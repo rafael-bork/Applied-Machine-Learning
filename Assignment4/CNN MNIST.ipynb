{
 "cells": [
  {
   "cell_type": "code",
   "execution_count": 44,
   "id": "e65fdbd8",
   "metadata": {},
   "outputs": [],
   "source": [
    "import torch\n",
    "import torch.nn as nn\n",
    "import torch.optim as optim\n",
    "from torchvision import datasets, transforms\n",
    "from torch.utils.data import DataLoader\n",
    "import matplotlib.pyplot as plt\n",
    "import time"
   ]
  },
  {
   "cell_type": "code",
   "execution_count": 45,
   "id": "f1b2a605",
   "metadata": {},
   "outputs": [
    {
     "name": "stdout",
     "output_type": "stream",
     "text": [
      "Using device: cpu\n"
     ]
    }
   ],
   "source": [
    "# in general, one would use \"cuda\" if available\n",
    "device = torch.device(\"cuda\" if torch.cuda.is_available() else \"cpu\")\n",
    "print(f\"Using device: {device}\")"
   ]
  },
  {
   "cell_type": "code",
   "execution_count": 46,
   "id": "fd69bcf0",
   "metadata": {},
   "outputs": [],
   "source": [
    "W,H=8,8 # height and width of resize images (input size for CNN)\n",
    "C=1 # input channels (gray image)\n",
    "batch_size = 64\n",
    "\n",
    "# Define a transformation to flatten the 8x8 images\n",
    "transform = transforms.Compose([\n",
    "    transforms.Resize((W, H)),         # Resize the PIL Image to 8x8 first (MNIST images are originally 28x28)\n",
    "    transforms.ToTensor(),             # Then convert to tensor\n",
    "])"
   ]
  },
  {
   "cell_type": "code",
   "execution_count": 56,
   "id": "e112f12d",
   "metadata": {},
   "outputs": [],
   "source": [
    "# Load the MNIST dataset\n",
    "train_dataset = datasets.MNIST(root='./data', train=True, download=True, transform=transform)\n",
    "test_dataset = datasets.MNIST(root='./data', train=False, download=True, transform=transform)\n",
    "\n",
    "# Create DataLoaders\n",
    "train_loader = DataLoader(train_dataset, batch_size=batch_size, shuffle=True)\n",
    "test_loader = DataLoader(test_dataset, batch_size=batch_size, shuffle=False)"
   ]
  },
  {
   "cell_type": "code",
   "execution_count": 48,
   "id": "4a23d27a",
   "metadata": {},
   "outputs": [
    {
     "data": {
      "image/png": "[encoded data removed]",
      "text/plain": [
       "<Figure size 900x1200 with 12 Axes>"
      ]
     },
     "metadata": {},
     "output_type": "display_data"
    }
   ],
   "source": [
    "# Assuming each image has shape (C,W,H)=(1, 8, 8)\n",
    "images, labels = zip(*[train_dataset[i] for i in range(12)])\n",
    "\n",
    "fig, axes = plt.subplots(3, 4, figsize=(9, 12))\n",
    "for i, ax in enumerate(axes.flat):\n",
    "    img = images[i].squeeze(0) # Remove the channel dimension (1,) -> (8, 8)\n",
    "    ax.imshow(img, cmap='gray')\n",
    "    ax.set_title(str(labels[i]), fontsize=12)\n",
    "    ax.axis('off')\n",
    "\n",
    "plt.tight_layout()\n",
    "plt.show()"
   ]
  },
  {
   "cell_type": "code",
   "execution_count": 49,
   "id": "d4faf1c8",
   "metadata": {},
   "outputs": [],
   "source": [
    "# Convolutional block with batch normalization: ic=input channels; oc=output channels\n",
    "def conv(ic, oc, act=True):\n",
    "    ks = 3\n",
    "    layers = [\n",
    "        nn.Conv2d(ic, oc, stride=2, kernel_size=ks, padding=ks//2),\n",
    "        nn.BatchNorm2d(oc)  # insert nn.BatchNorm2d layer after each convolution and before the activation (ReLU).\n",
    "    ]\n",
    "    return nn.Sequential(*layers)\n",
    "\n",
    "# Build the CNN model with layers of conv(ic,oc) and Dropout\n",
    "ks = 3\n",
    "simple_cnn = nn.Sequential(\n",
    "    conv(1, 8),              # convolution and batchnorm; Output: 4x4\n",
    "    nn.Dropout2d(p=0.25),    # Add 2D Dropout after the first conv layer (common for CNNs)\n",
    "    nn.ReLU(),               # activation layer\n",
    "    conv(8, 16),             # Output: 2x2\n",
    "    nn.Dropout2d(p=0.25),    # Add 2D Dropout after the second conv layer\n",
    "    nn.ReLU(),               # activation layer\n",
    "    conv(16, 10, act=False), # Output: 1x1\n",
    "    nn.Flatten(), # Use the predefined nn.Flatten layer\n",
    "    # You could also add a standard nn.Dropout here if you had a fully connected layer after Flatten,\n",
    "    # but in this specific architecture, Flatten is followed directly by the output layer.\n",
    ")"
   ]
  },
  {
   "cell_type": "code",
   "execution_count": 50,
   "id": "952c8d80",
   "metadata": {},
   "outputs": [],
   "source": [
    "# Computes the accuracy for a batch: outputs are probability-like values\n",
    "def compute_accuracy(outputs, labels):\n",
    "    _, predicted = torch.max(outputs.data, 1)\n",
    "    correct = (predicted == labels).sum().item()\n",
    "    total = len(labels)\n",
    "    return correct / total\n",
    "\n",
    "num_epochs = 10\n",
    "model = simple_cnn\n",
    "\n",
    "# Loss and optimizer\n",
    "criterion = nn.CrossEntropyLoss()\n",
    "optimizer = optim.Adam(model.parameters(), lr=0.001)\n",
    "\n",
    "model.to(device) #<<<<<<<<<< move model to device\n",
    "\n",
    "# History object to keep track of accuracy along epochs\n",
    "history = {'epoch': [], 'train_accuracy': [], 'val_accuracy': []}"
   ]
  },
  {
   "cell_type": "code",
   "execution_count": null,
   "id": "0a64e7eb",
   "metadata": {},
   "outputs": [
    {
     "name": "stdout",
     "output_type": "stream",
     "text": [
      "epoch: 1; time: 1750334121\n",
      "epoch: 1; accuracy: 0.7182502665245203\n",
      "epoch: 2; time: 1750334138\n",
      "epoch: 2; accuracy: 0.8297741204690832\n",
      "epoch: 3; time: 1750334156\n",
      "epoch: 3; accuracy: 0.8484474946695096\n",
      "epoch: 4; time: 1750334173\n",
      "epoch: 4; accuracy: 0.8546941631130064\n",
      "epoch: 5; time: 1750334191\n",
      "epoch: 5; accuracy: 0.8601912313432836\n",
      "epoch: 6; time: 1750334208\n",
      "epoch: 6; accuracy: 0.8629397654584222\n",
      "epoch: 7; time: 1750334227\n",
      "epoch: 7; accuracy: 0.865271855010661\n",
      "epoch: 8; time: 1750334244\n",
      "epoch: 8; accuracy: 0.8657715884861408\n",
      "epoch: 9; time: 1750334261\n",
      "epoch: 9; accuracy: 0.8657382729211087\n",
      "epoch: 10; time: 1750334278\n",
      "epoch: 10; accuracy: 0.8679204424307037\n"
     ]
    }
   ],
   "source": [
    "for epoch in range(num_epochs):\n",
    "    print(f'epoch: {epoch+1}; time: {round(time.time())}')\n",
    "    model.train()\n",
    "    batch_accuracies=[] # to store estimated accuracy for each batch\n",
    "    # loop through batches of examples\n",
    "    for images, labels in train_loader:\n",
    "        images = images.to(device)  #<<<<<<<<<< move data to device\n",
    "        labels = labels.to(device)  #<<<<<<<<<< move data to device\n",
    "        outputs = model(images)\n",
    "        loss = criterion(outputs, labels)\n",
    "        optimizer.zero_grad()\n",
    "        loss.backward()\n",
    "        optimizer.step()\n",
    "        # compute accuracy over the batch\n",
    "        batch_accuracies.append(compute_accuracy(outputs, labels))\n",
    "    history['epoch'].append(epoch+1)\n",
    "    history['train_accuracy'].append(sum(batch_accuracies) / len(batch_accuracies))\n",
    "    print(f'epoch: {epoch+1}; accuracy: {sum(batch_accuracies) / len(batch_accuracies)}')\n",
    "    \n",
    "    # save current model before next epoch\n",
    "    model_filename=f'MNIST-Classification/simple_cnn_jit_epoch_{epoch+1}.pt'\n",
    "    # Save the trained model in JIT format <<<<<<<<<<<<<<<<<<<<<<<<<<<< JIT format\n",
    "    model.eval() # Set the model to evaluation mode\n",
    "    with torch.no_grad(): # Disable gradient calculation for JIT tracing\n",
    "        # Create a dummy input matching the expected input shape of the model\n",
    "        dummy_input = torch.randn(1, C, W, H).to(device)\n",
    "        # Trace the model with the dummy input\n",
    "        traced_model = torch.jit.trace(model, dummy_input)\n",
    "    # Save the traced model to a file\n",
    "    traced_model.save(model_filename)"
   ]
  },
  {
   "cell_type": "code",
   "execution_count": null,
   "id": "3ad860cc",
   "metadata": {},
   "outputs": [
    {
     "name": "stdout",
     "output_type": "stream",
     "text": [
      "epoch: 1; time: 1750334295\n",
      "Model loaded from MNIST-Classification/simple_cnn_jit_epoch_1.pt\n",
      "epoch: 1; accuracy: 0.9121218152866242\n",
      "epoch: 2; time: 1750334298\n",
      "Model loaded from MNIST-Classification/simple_cnn_jit_epoch_2.pt\n",
      "epoch: 2; accuracy: 0.9239649681528662\n",
      "epoch: 3; time: 1750334300\n",
      "Model loaded from MNIST-Classification/simple_cnn_jit_epoch_3.pt\n",
      "epoch: 3; accuracy: 0.9292396496815286\n",
      "epoch: 4; time: 1750334302\n",
      "Model loaded from MNIST-Classification/simple_cnn_jit_epoch_4.pt\n",
      "epoch: 4; accuracy: 0.9368033439490446\n",
      "epoch: 5; time: 1750334305\n",
      "Model loaded from MNIST-Classification/simple_cnn_jit_epoch_5.pt\n",
      "epoch: 5; accuracy: 0.9357085987261147\n",
      "epoch: 6; time: 1750334307\n",
      "Model loaded from MNIST-Classification/simple_cnn_jit_epoch_6.pt\n",
      "epoch: 6; accuracy: 0.9407842356687898\n",
      "epoch: 7; time: 1750334309\n",
      "Model loaded from MNIST-Classification/simple_cnn_jit_epoch_7.pt\n",
      "epoch: 7; accuracy: 0.9418789808917197\n",
      "epoch: 8; time: 1750334311\n",
      "Model loaded from MNIST-Classification/simple_cnn_jit_epoch_8.pt\n",
      "epoch: 8; accuracy: 0.9397890127388535\n",
      "epoch: 9; time: 1750334314\n",
      "Model loaded from MNIST-Classification/simple_cnn_jit_epoch_9.pt\n",
      "epoch: 9; accuracy: 0.9417794585987261\n",
      "epoch: 10; time: 1750334316\n",
      "Model loaded from MNIST-Classification/simple_cnn_jit_epoch_10.pt\n",
      "epoch: 10; accuracy: 0.943172770700637\n"
     ]
    }
   ],
   "source": [
    "history['val_accuracy']=[]\n",
    "for epoch in range(num_epochs):\n",
    "    print(f'epoch: {epoch+1}; time: {round(time.time())}')\n",
    "    # Define the path to the saved JIT model file\n",
    "    jit_model_filename = f'MNIST-Classification/models/simple_cnn_jit_epoch_{epoch+1}.pt'\n",
    "    # Load the traced model from the file\n",
    "    # Ensure the model is loaded onto the correct device\n",
    "    model = torch.jit.load(jit_model_filename, map_location=device)\n",
    "    print(f\"Model loaded from {jit_model_filename}\")\n",
    "    model.eval() # Set the loaded model to evaluation mode\n",
    "    batch_accuracies=[]\n",
    "    with torch.no_grad():\n",
    "        # loop through batches of examples\n",
    "        for images, labels in test_loader:\n",
    "            images = images.to(device)  #<<<<<<<<<< move data to device\n",
    "            labels = labels.to(device)  #<<<<<<<<<< move data to device\n",
    "            outputs = model(images)\n",
    "            # compute accuracy over the batch\n",
    "            batch_accuracies.append(compute_accuracy(outputs, labels))\n",
    "        history['val_accuracy'].append(sum(batch_accuracies) / len(batch_accuracies))\n",
    "        print(f'epoch: {epoch+1}; accuracy: {sum(batch_accuracies) / len(batch_accuracies)}')"
   ]
  },
  {
   "cell_type": "code",
   "execution_count": 53,
   "id": "4256c6f7",
   "metadata": {},
   "outputs": [
    {
     "data": {
      "image/png": "[encoded data removed]",
      "text/plain": [
       "<Figure size 640x480 with 1 Axes>"
      ]
     },
     "metadata": {},
     "output_type": "display_data"
    }
   ],
   "source": [
    "# accuracy plot\n",
    "plt.plot(history['epoch'], history['train_accuracy'], label='Train Accuracy')\n",
    "plt.plot(history['epoch'], history['val_accuracy'], label='Validation Accuracy')\n",
    "plt.xlabel('Epoch')\n",
    "plt.ylabel('Accuracy (%)')\n",
    "plt.title('Train and Validation Accuracy over Epochs')\n",
    "plt.legend()\n",
    "plt.grid(True)\n",
    "plt.show()"
   ]
  }
 ],
 "metadata": {
  "kernelspec": {
   "display_name": "Python 3",
   "language": "python",
   "name": "python3"
  },
  "language_info": {
   "codemirror_mode": {
    "name": "ipython",
    "version": 3
   },
   "file_extension": ".py",
   "mimetype": "text/x-python",
   "name": "python",
   "nbconvert_exporter": "python",
   "pygments_lexer": "ipython3",
   "version": "3.13.2"
  }
 },
 "nbformat": 4,
 "nbformat_minor": 5
}
